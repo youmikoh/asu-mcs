{
 "cells": [
  {
   "cell_type": "code",
   "execution_count": 1,
   "metadata": {},
   "outputs": [],
   "source": [
    "import json\n",
    "import math\n",
    "import re"
   ]
  },
  {
   "cell_type": "code",
   "execution_count": 2,
   "metadata": {},
   "outputs": [],
   "source": [
    "def print_soln(soln, n=9):\n",
    "    board = [[0 for i in range(n)] for j in range(n)]\n",
    "\n",
    "    pattern = r'\\d+'\n",
    "    for a in soln:\n",
    "        r, c, num = [int(x) for x in re.findall(pattern, a)][:3]\n",
    "        board[r-1][c-1] = num\n",
    "\n",
    "    for r in board:\n",
    "        print(r)\n",
    "\n",
    "    return board"
   ]
  },
  {
   "cell_type": "code",
   "execution_count": 12,
   "metadata": {},
   "outputs": [
    {
     "name": "stdout",
     "output_type": "stream",
     "text": [
      "[2, 3, 9, 5, 1, 4, 6, 7, 8]\n",
      "[4, 7, 6, 8, 9, 3, 1, 2, 5]\n",
      "[8, 1, 5, 7, 6, 2, 9, 3, 4]\n",
      "[9, 6, 7, 3, 4, 8, 5, 1, 2]\n",
      "[1, 8, 2, 9, 5, 6, 7, 4, 3]\n",
      "[3, 5, 4, 1, 2, 7, 8, 9, 6]\n",
      "[7, 2, 8, 6, 3, 9, 4, 5, 1]\n",
      "[6, 4, 1, 2, 7, 5, 3, 8, 9]\n",
      "[5, 9, 3, 4, 8, 1, 2, 6, 7]\n"
     ]
    }
   ],
   "source": [
    "i = 7\n",
    "with open(f\"output_p{i}.json\", \"r\") as f:\n",
    "    p = json.load(f)\n",
    "\n",
    "soln = [a for a in p.get(\"Call\")[0].get(\"Witnesses\")[0].get(\"Value\") if a[0]==\"a\"]\n",
    "board = print_soln(soln)\n"
   ]
  },
  {
   "cell_type": "code",
   "execution_count": 10,
   "metadata": {},
   "outputs": [
    {
     "name": "stdout",
     "output_type": "stream",
     "text": [
      "True\n"
     ]
    }
   ],
   "source": [
    "def is_valid_solution(sudoku, n=9):\n",
    "    def check_group(group):\n",
    "        return sorted(group) == list(range(1, n+1))\n",
    "\n",
    "    # Check rows\n",
    "    for row in sudoku:\n",
    "        if not check_group(row):\n",
    "            return False\n",
    "\n",
    "    # Check columns\n",
    "    for col in range(n):\n",
    "        column = [sudoku[row][col] for row in range(n)]\n",
    "        if not check_group(column):\n",
    "            return False\n",
    "\n",
    "    m = int(math.sqrt(n))\n",
    "    # Check 4x4 boxes\n",
    "    for box_row in range(0, n, m):\n",
    "        for box_col in range(0, n, m):\n",
    "            box = [\n",
    "                sudoku[row][col]\n",
    "                for row in range(box_row, box_row + m)\n",
    "                for col in range(box_col, box_col + m)\n",
    "            ]\n",
    "            if not check_group(box):\n",
    "                return False\n",
    "\n",
    "    return True\n",
    "\n",
    "print(is_valid_solution(board))"
   ]
  },
  {
   "cell_type": "code",
   "execution_count": null,
   "metadata": {},
   "outputs": [],
   "source": [
    "Simple Answer Set Programming\n",
    "Youmi Koh_CSE 579_Simple Answer Set Programming Assignment"
   ]
  }
 ],
 "metadata": {
  "kernelspec": {
   "display_name": "ai-AtyJPqy7-py3.10",
   "language": "python",
   "name": "python3"
  },
  "language_info": {
   "codemirror_mode": {
    "name": "ipython",
    "version": 3
   },
   "file_extension": ".py",
   "mimetype": "text/x-python",
   "name": "python",
   "nbconvert_exporter": "python",
   "pygments_lexer": "ipython3",
   "version": "3.10.9"
  },
  "orig_nbformat": 4
 },
 "nbformat": 4,
 "nbformat_minor": 2
}
