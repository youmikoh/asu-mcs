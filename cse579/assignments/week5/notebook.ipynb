{
 "cells": [
  {
   "cell_type": "code",
   "execution_count": 1,
   "metadata": {},
   "outputs": [],
   "source": [
    "import itertools\n",
    "import json\n",
    "import math\n",
    "import re"
   ]
  },
  {
   "cell_type": "code",
   "execution_count": 4,
   "metadata": {},
   "outputs": [],
   "source": [
    "def group_by(iterable, key):\n",
    "    return itertools.groupby(sorted(iterable, key=key), key=key)\n",
    "    \n",
    "def get_state(s):\n",
    "    stacks = [[\"table\", b[1]] for b in s if b[2]==\"table\"]\n",
    "    blocks = {b[2]: b[1] for b in s if b[2] != \"table\"}\n",
    "    for stack in stacks:\n",
    "        while stack[-1] in blocks.keys():\n",
    "            stack.append(blocks[stack[-1]])\n",
    "    return sorted(stacks, key=lambda x: x[1])\n",
    "\n",
    "def get_actions(acts):\n",
    "    return [f\"move {a[1]} to {a[2]}\" for a in acts]\n",
    "\n",
    "def state_action(step):\n",
    "    predicate = {p: list(g) for p, g in group_by(step, key=lambda x: x[0])}\n",
    "    if state := predicate.get(\"on\"):\n",
    "        predicate[\"on\"] = get_state(state)\n",
    "    if actions := predicate.get(\"move\"):\n",
    "        predicate[\"move\"] = get_actions(actions)\n",
    "    return predicate\n",
    "\n",
    "def print_output(filename):\n",
    "    print(f\"======= {filename}\")\n",
    "    with open(filename) as f:\n",
    "        data = json.load(f)\n",
    "    output = data.get(\"Call\")[0].get(\"Witnesses\")\n",
    "    optimal = sorted(output, key=lambda d: d.get(\"Costs\")[0])\n",
    "    cost = optimal[0].get(\"Costs\")[0]\n",
    "    pattern = r\"(\\w+)\\((\\w+),(\\w+),(\\d+)\\)\"\n",
    "    optimal = [re.match(pattern, v).groups() for v in optimal[0].get(\"Value\")]\n",
    "    plan = list(\n",
    "        (int(t), state_action(list(step)))\n",
    "        for t, step \n",
    "        in group_by(optimal, key=lambda x: int(x[3]))\n",
    "    )\n",
    "    print(f\"COST: {cost}\")\n",
    "    for t, step in plan:\n",
    "        print(f\"Time: {t}\")\n",
    "        for k, v in step.items():\n",
    "            if isinstance(v, list):\n",
    "                print(f\"{k}:\")\n",
    "                for a in v:\n",
    "                    print(f\"\\t{a}\")\n",
    "            else:\n",
    "                print(f\"{k}: {v}\")\n",
    "        print()"
   ]
  },
  {
   "cell_type": "code",
   "execution_count": null,
   "metadata": {},
   "outputs": [],
   "source": [
    "print_output(\"output_p3_v0.json\")"
   ]
  },
  {
   "cell_type": "code",
   "execution_count": null,
   "metadata": {},
   "outputs": [],
   "source": [
    "print_output(\"output_p3_v5.json\")"
   ]
  },
  {
   "cell_type": "code",
   "execution_count": null,
   "metadata": {},
   "outputs": [],
   "source": [
    "print_output(\"output_p3_v2.json\")"
   ]
  },
  {
   "cell_type": "code",
   "execution_count": null,
   "metadata": {},
   "outputs": [],
   "source": [
    "print_output(\"output_p3_v3.json\")"
   ]
  },
  {
   "cell_type": "code",
   "execution_count": 11,
   "metadata": {},
   "outputs": [
    {
     "name": "stdout",
     "output_type": "stream",
     "text": [
      "======= output.json\n",
      "COST: 18\n",
      "Time: 0\n",
      "move:\n",
      "\tmove c to table\n",
      "\tmove i to table\n",
      "\tmove k to table\n",
      "on:\n",
      "\t['table', 'f', 'g', 'h', 'i']\n",
      "\t['table', 'm', 'l', 'a', 'b', 'c']\n",
      "\t['table', 'o', 'n', 'd', 'e', 'j', 'k']\n",
      "\n",
      "Time: 1\n",
      "move:\n",
      "\tmove b to table\n",
      "\tmove h to table\n",
      "\tmove j to table\n",
      "on:\n",
      "\t['table', 'c']\n",
      "\t['table', 'f', 'g', 'h']\n",
      "\t['table', 'i']\n",
      "\t['table', 'k']\n",
      "\t['table', 'm', 'l', 'a', 'b']\n",
      "\t['table', 'o', 'n', 'd', 'e', 'j']\n",
      "\n",
      "Time: 2\n",
      "move:\n",
      "\tmove e to j\n",
      "\tmove k to g\n",
      "on:\n",
      "\t['table', 'b']\n",
      "\t['table', 'c']\n",
      "\t['table', 'f', 'g']\n",
      "\t['table', 'h']\n",
      "\t['table', 'i']\n",
      "\t['table', 'j']\n",
      "\t['table', 'k']\n",
      "\t['table', 'm', 'l', 'a']\n",
      "\t['table', 'o', 'n', 'd', 'e']\n",
      "\n",
      "Time: 3\n",
      "move:\n",
      "\tmove a to e\n",
      "\tmove c to k\n",
      "\tmove d to table\n",
      "on:\n",
      "\t['table', 'b']\n",
      "\t['table', 'c']\n",
      "\t['table', 'f', 'g', 'k']\n",
      "\t['table', 'h']\n",
      "\t['table', 'i']\n",
      "\t['table', 'j', 'e']\n",
      "\t['table', 'm', 'l', 'a']\n",
      "\t['table', 'o', 'n', 'd']\n",
      "\n",
      "Time: 4\n",
      "move:\n",
      "\tmove b to c\n",
      "\tmove i to d\n",
      "\tmove n to a\n",
      "on:\n",
      "\t['table', 'b']\n",
      "\t['table', 'd']\n",
      "\t['table', 'f', 'g', 'k', 'c']\n",
      "\t['table', 'h']\n",
      "\t['table', 'i']\n",
      "\t['table', 'j', 'e', 'a']\n",
      "\t['table', 'm', 'l']\n",
      "\t['table', 'o', 'n']\n",
      "\n",
      "Time: 5\n",
      "move:\n",
      "\tmove h to i\n",
      "\tmove l to b\n",
      "on:\n",
      "\t['table', 'd', 'i']\n",
      "\t['table', 'f', 'g', 'k', 'c', 'b']\n",
      "\t['table', 'h']\n",
      "\t['table', 'j', 'e', 'a', 'n']\n",
      "\t['table', 'm', 'l']\n",
      "\t['table', 'o']\n",
      "\n",
      "Time: 6\n",
      "move:\n",
      "\tmove m to h\n",
      "on:\n",
      "\t['table', 'd', 'i', 'h']\n",
      "\t['table', 'f', 'g', 'k', 'c', 'b', 'l']\n",
      "\t['table', 'j', 'e', 'a', 'n']\n",
      "\t['table', 'm']\n",
      "\t['table', 'o']\n",
      "\n",
      "Time: 7\n",
      "move:\n",
      "\tmove o to m\n",
      "on:\n",
      "\t['table', 'd', 'i', 'h', 'm']\n",
      "\t['table', 'f', 'g', 'k', 'c', 'b', 'l']\n",
      "\t['table', 'j', 'e', 'a', 'n']\n",
      "\t['table', 'o']\n",
      "\n",
      "Time: 8\n",
      "on:\n",
      "\t['table', 'd', 'i', 'h', 'm', 'o']\n",
      "\t['table', 'f', 'g', 'k', 'c', 'b', 'l']\n",
      "\t['table', 'j', 'e', 'a', 'n']\n",
      "\n"
     ]
    }
   ],
   "source": [
    "with open(\"output.json\") as f:\n",
    "    v0 = json.load(f)\n",
    "v0 = v0.get(\"Call\")[0].get(\"Witnesses\")\n",
    "v0 = sorted(v0, key=lambda d: d.get(\"Costs\")[0])\n",
    "pattern = r\"(\\w+)\\((\\w+),(\\w+),(\\d+)\\)\"\n",
    "v0 = [re.match(pattern, v).groups() for v in v0[0].get(\"Value\")]\n",
    "\n",
    "print_output(\"output.json\")"
   ]
  },
  {
   "cell_type": "code",
   "execution_count": null,
   "metadata": {},
   "outputs": [],
   "source": []
  },
  {
   "cell_type": "code",
   "execution_count": null,
   "metadata": {},
   "outputs": [],
   "source": [
    "with open(\"output_p3_v1.json\") as f:\n",
    "    v1 = json.load(f)\n",
    "v1 = v1.get(\"Call\")[0].get(\"Witnesses\")\n",
    "v1 = sorted(v1, key=lambda d: d.get(\"Costs\")[0])\n",
    "pattern = r\"(\\w+)\\((\\w+),(\\w+),(\\d+)\\)\"\n",
    "v1 = [re.match(pattern, v).groups() for v in v1[0].get(\"Value\")]"
   ]
  },
  {
   "cell_type": "code",
   "execution_count": null,
   "metadata": {},
   "outputs": [],
   "source": [
    "with open(\"output_p3_v2.json\") as f:\n",
    "    v2 = json.load(f)\n",
    "v2 = v2.get(\"Call\")[0].get(\"Witnesses\")\n",
    "v2 = sorted(v2, key=lambda d: d.get(\"Costs\")[0])\n",
    "pattern = r\"(\\w+)\\((\\w+),(\\w+),(\\d+)\\)\"\n",
    "v2 = [re.match(pattern, v).groups() for v in v2[0].get(\"Value\")]"
   ]
  },
  {
   "cell_type": "code",
   "execution_count": null,
   "metadata": {},
   "outputs": [],
   "source": [
    "with open(\"output_p3_v3.json\") as f:\n",
    "    v3 = json.load(f)\n",
    "v3 = v3.get(\"Call\")[0].get(\"Witnesses\")\n",
    "v3 = sorted(v3, key=lambda d: d.get(\"Costs\")[0])\n",
    "pattern = r\"(\\w+)\\((\\w+),(\\w+),(\\d+)\\)\"\n",
    "v3 = [re.match(pattern, v).groups() for v in v3[0].get(\"Value\")]"
   ]
  },
  {
   "cell_type": "code",
   "execution_count": null,
   "metadata": {},
   "outputs": [],
   "source": [
    "set(v1) == set(v3)"
   ]
  },
  {
   "cell_type": "code",
   "execution_count": null,
   "metadata": {},
   "outputs": [],
   "source": [
    "with open(\"output_p3_v4.json\") as f:\n",
    "    v3 = json.load(f)\n",
    "v3 = v3.get(\"Call\")[0].get(\"Witnesses\")\n",
    "v3 = sorted(v3, key=lambda d: d.get(\"Costs\")[0])\n",
    "pattern = r\"(\\w+)\\((\\w+),(\\w+),(\\d+)\\)\"\n",
    "v3 = [re.match(pattern, v).groups() for v in v3[0].get(\"Value\")]"
   ]
  },
  {
   "cell_type": "code",
   "execution_count": null,
   "metadata": {},
   "outputs": [],
   "source": [
    "print_output(\"output_p3_v4.json\")"
   ]
  },
  {
   "cell_type": "code",
   "execution_count": null,
   "metadata": {},
   "outputs": [],
   "source": [
    "with open(\"output3.json\") as f:\n",
    "    v3 = json.load(f)\n",
    "v3 = v3.get(\"Call\")[0].get(\"Witnesses\")\n",
    "v3 = sorted(v3, key=lambda d: d.get(\"Costs\")[0])\n",
    "pattern = r\"(\\w+)\\((\\w+),(\\w+),(\\d+)\\)\"\n",
    "v3 = [re.match(pattern, v).groups() for v in v3[0].get(\"Value\")]"
   ]
  },
  {
   "cell_type": "code",
   "execution_count": null,
   "metadata": {},
   "outputs": [],
   "source": [
    "print_output(\"output3.json\")"
   ]
  },
  {
   "cell_type": "code",
   "execution_count": null,
   "metadata": {},
   "outputs": [],
   "source": []
  },
  {
   "cell_type": "code",
   "execution_count": null,
   "metadata": {},
   "outputs": [],
   "source": []
  }
 ],
 "metadata": {
  "kernelspec": {
   "display_name": "ai-AtyJPqy7-py3.10",
   "language": "python",
   "name": "python3"
  },
  "language_info": {
   "codemirror_mode": {
    "name": "ipython",
    "version": 3
   },
   "file_extension": ".py",
   "mimetype": "text/x-python",
   "name": "python",
   "nbconvert_exporter": "python",
   "pygments_lexer": "ipython3",
   "version": "3.11.3"
  },
  "orig_nbformat": 4
 },
 "nbformat": 4,
 "nbformat_minor": 2
}
