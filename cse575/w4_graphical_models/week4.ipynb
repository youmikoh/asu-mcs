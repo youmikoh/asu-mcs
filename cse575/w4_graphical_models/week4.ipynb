{
 "cells": [
  {
   "cell_type": "code",
   "execution_count": 2,
   "metadata": {},
   "outputs": [],
   "source": [
    "features = [1,1,0,1,1,0,1,0,1,0,1,0,1,1,1,1,0,0,0,0,0,0,1,1]\n",
    "labels = [1,1,1,1,0,1,1,0,0,1,1,0,0,0,0,1,1,0,0,0,1,1,0,0]\n",
    "\n",
    "\n",
    "f0, f1, y1 = 0,0,0\n",
    "\n",
    "for ft, lab in zip(features, labels):\n",
    "    if lab ==1:\n",
    "        y1 += 1\n",
    "        if ft == 0:\n",
    "            f0 += 1\n",
    "        elif ft == 1:\n",
    "            f1 += 1\n",
    "    \n",
    "pf0 = f0/y1\n",
    "pf1 = f1/y1\n",
    "\n"
   ]
  },
  {
   "cell_type": "code",
   "execution_count": 3,
   "metadata": {},
   "outputs": [
    {
     "data": {
      "text/plain": [
       "(0.5, 0.5, 12)"
      ]
     },
     "execution_count": 3,
     "metadata": {},
     "output_type": "execute_result"
    }
   ],
   "source": [
    "pf0, pf1, y1"
   ]
  },
  {
   "cell_type": "code",
   "execution_count": null,
   "metadata": {},
   "outputs": [],
   "source": []
  }
 ],
 "metadata": {
  "kernelspec": {
   "display_name": "ai-AtyJPqy7-py3.11",
   "language": "python",
   "name": "python3"
  },
  "language_info": {
   "codemirror_mode": {
    "name": "ipython",
    "version": 3
   },
   "file_extension": ".py",
   "mimetype": "text/x-python",
   "name": "python",
   "nbconvert_exporter": "python",
   "pygments_lexer": "ipython3",
   "version": "3.11.4"
  },
  "orig_nbformat": 4
 },
 "nbformat": 4,
 "nbformat_minor": 2
}
